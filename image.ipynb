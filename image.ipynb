{
 "cells": [
  {
   "cell_type": "code",
   "execution_count": 25,
   "id": "25939c9b",
   "metadata": {},
   "outputs": [],
   "source": [
    "from PIL import Image, ImageOps\n",
    "\n",
    "# Open the original image\n",
    "img = Image.open(r\"assets\\Screenshot 2025-06-16 182032.png\")\n",
    "\n",
    "# Resize while keeping aspect ratio and fitting within 1080x1080\n",
    "img.thumbnail((1920, 1080), Image.LANCZOS)\n",
    "\n",
    "# Add padding to make it exactly 1080x1080\n",
    "img_padded = ImageOps.pad(img, (1920, 1080), color=\"#FFFFFF\", centering=(0.5, 0.5))\n",
    "\n",
    "# Save the result\n",
    "img_padded.save(\"splash_android.png\")\n"
   ]
  },
  {
   "cell_type": "code",
   "execution_count": null,
   "id": "c92513c6",
   "metadata": {},
   "outputs": [],
   "source": [
    "exercises = [{\n",
    "  \"Deadlift\": {\n",
    "    \"weeks\": {\n",
    "      \"week_1\": {\n",
    "        \"date\":\"30-8-2004\",\n",
    "        \"sets\": 3,\n",
    "        \"repetitions\": [10, 8, 6],\n",
    "        \"weights\": [60, 70, 80]\n",
    "      },\n",
    "      \"week_2\": {\n",
    "        \"date\":\"30-8-2004\",\n",
    "        \"sets\": 4,\n",
    "        \"repetitions\": [12, 10, 8, 6],\n",
    "        \"weights\": [50, 60, 70, 80]\n",
    "      },\n",
    "      \"week_3\": {\n",
    "        \"date\":\"30-8-2004\",\n",
    "        \"sets\": 5,\n",
    "        \"repetitions\": [15, 12, 10, 8, 6],\n",
    "        \"weights\": [40, 50, 60, 70, 80]\n",
    "      }\n",
    "    }\n",
    "  }\n",
    "}]\n"
   ]
  },
  {
   "cell_type": "code",
   "execution_count": 3,
   "id": "0580638e",
   "metadata": {},
   "outputs": [
    {
     "name": "stdout",
     "output_type": "stream",
     "text": [
      "{'date': '30-8-2004', 'sets': 3, 'repetitions': [10, 8, 6], 'weights': [60, 70, 80]}\n"
     ]
    }
   ],
   "source": [
    "import json \n",
    "\n",
    "with open(\"exercise_structure.json\") as file:\n",
    "    file = json.load(file)\n",
    "    print(file[1][\"Arnold2\"][\"Deadlift\"][\"weeks\"][\"week_1\"])"
   ]
  }
 ],
 "metadata": {
  "kernelspec": {
   "display_name": "Python 3",
   "language": "python",
   "name": "python3"
  },
  "language_info": {
   "codemirror_mode": {
    "name": "ipython",
    "version": 3
   },
   "file_extension": ".py",
   "mimetype": "text/x-python",
   "name": "python",
   "nbconvert_exporter": "python",
   "pygments_lexer": "ipython3",
   "version": "3.13.1"
  }
 },
 "nbformat": 4,
 "nbformat_minor": 5
}
